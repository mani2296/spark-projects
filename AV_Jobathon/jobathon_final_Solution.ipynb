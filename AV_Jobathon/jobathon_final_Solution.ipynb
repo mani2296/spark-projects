{
 "cells": [
  {
   "cell_type": "code",
   "execution_count": 1,
   "id": "69a0e368",
   "metadata": {},
   "outputs": [],
   "source": [
    "import findspark\n",
    "findspark.init()\n",
    "import pyspark\n",
    "from pyspark.sql import SparkSession\n",
    "spark=SparkSession.builder.getOrCreate()"
   ]
  },
  {
   "cell_type": "code",
   "execution_count": 10,
   "id": "13506235",
   "metadata": {},
   "outputs": [
    {
     "name": "stdout",
     "output_type": "stream",
     "text": [
      "+--------------------+--------------------+--------------------+----------+--------------------+\n",
      "|          browser_id|    client_side_data|     event_date_time|event_type|          session_id|\n",
      "+--------------------+--------------------+--------------------+----------+--------------------+\n",
      "|np1VSCs0e0h5utWYw...|[https://www.gosh...|2022-08-02 08:41:...|  pageload|BXaHGXYlHJjVcyx49...|\n",
      "|ulFDwWtfUxBWu9TKE...|[https://www.gosh...|2022-08-02 05:49:...|  pageload|HSCp4uJWTSUt8whLn...|\n",
      "|5ApjGIfsqzi66BJeC...|[https://www.gosh...|2022-08-02 04:01:...|  pageload|ks2q6XlyWvlEOuBVP...|\n",
      "|fmhMaS22p4KeDjH60...|[https://www.gosh...|2022-07-31 03:08:...|  pageload|7yQ7NY80yCBoyvoWf...|\n",
      "|fmhMaS22p4KeDjH60...|[https://www.gosh...|2022-07-31 03:09:...|  pageload|7yQ7NY80yCBoyvoWf...|\n",
      "|fmhMaS22p4KeDjH60...|[https://www.gosh...|2022-07-31 03:09:...|  pageload|7yQ7NY80yCBoyvoWf...|\n",
      "|fmhMaS22p4KeDjH60...|[https://www.gosh...|2022-07-31 03:09:...|  pageload|7yQ7NY80yCBoyvoWf...|\n",
      "|fmhMaS22p4KeDjH60...|[https://www.gosh...|2022-07-31 03:09:...|  pageload|7yQ7NY80yCBoyvoWf...|\n",
      "|fmhMaS22p4KeDjH60...|[https://www.gosh...|2022-07-31 03:09:...|  pageload|7yQ7NY80yCBoyvoWf...|\n",
      "|fmhMaS22p4KeDjH60...|[https://www.gosh...|2022-07-31 03:10:...|  pageload|7yQ7NY80yCBoyvoWf...|\n",
      "|fmhMaS22p4KeDjH60...|[https://www.gosh...|2022-07-31 03:11:...|  pageload|7yQ7NY80yCBoyvoWf...|\n",
      "|fmhMaS22p4KeDjH60...|[https://www.gosh...|2022-07-31 03:13:...|  pageload|7yQ7NY80yCBoyvoWf...|\n",
      "|fmhMaS22p4KeDjH60...|[https://www.gosh...|2022-07-31 03:13:...|  pageload|7yQ7NY80yCBoyvoWf...|\n",
      "|fmhMaS22p4KeDjH60...|[https://www.gosh...|2022-07-31 03:14:...|  pageload|7yQ7NY80yCBoyvoWf...|\n",
      "|fmhMaS22p4KeDjH60...|[https://www.gosh...|2022-07-31 03:14:...|  pageload|7yQ7NY80yCBoyvoWf...|\n",
      "|fmhMaS22p4KeDjH60...|[https://www.gosh...|2022-07-31 03:17:...|  pageload|7yQ7NY80yCBoyvoWf...|\n",
      "|fmhMaS22p4KeDjH60...|[https://www.gosh...|2022-07-31 03:20:...|  pageload|7yQ7NY80yCBoyvoWf...|\n",
      "|fmhMaS22p4KeDjH60...|[https://www.gosh...|2022-07-31 03:20:...|  pageload|7yQ7NY80yCBoyvoWf...|\n",
      "|fmhMaS22p4KeDjH60...|[https://www.gosh...|2022-07-31 03:23:...|  pageload|7yQ7NY80yCBoyvoWf...|\n",
      "|fmhMaS22p4KeDjH60...|[https://www.gosh...|2022-07-31 03:23:...|  pageload|7yQ7NY80yCBoyvoWf...|\n",
      "+--------------------+--------------------+--------------------+----------+--------------------+\n",
      "only showing top 20 rows\n",
      "\n"
     ]
    }
   ],
   "source": [
    "#reading clickstream data\n",
    "clickstream_df=spark.read.json(\"jobathon_click_data.json\")\n",
    "clickstream_df.show(20)"
   ]
  },
  {
   "cell_type": "code",
   "execution_count": 4,
   "id": "3c8ebff8",
   "metadata": {},
   "outputs": [
    {
     "name": "stdout",
     "output_type": "stream",
     "text": [
      "root\n",
      " |-- browser_id: string (nullable = true)\n",
      " |-- client_side_data: struct (nullable = true)\n",
      " |    |-- current_page_url: string (nullable = true)\n",
      " |    |-- time_elapsed: string (nullable = true)\n",
      " |-- event_date_time: string (nullable = true)\n",
      " |-- event_type: string (nullable = true)\n",
      " |-- session_id: string (nullable = true)\n",
      "\n"
     ]
    }
   ],
   "source": [
    "clickstream_df.printSchema()"
   ]
  },
  {
   "cell_type": "code",
   "execution_count": 16,
   "id": "9201e4c8",
   "metadata": {},
   "outputs": [],
   "source": [
    "#parsing struct type and converting time_elapsed to timestamp\n",
    "from pyspark.sql.functions import * \n",
    "clickstream_df=clickstream_df.select(\"browser_id\",col(\"client_side_data.current_page_url\").alias(\"current_page_url\"),\n",
    "                                     to_timestamp(\"client_side_data.time_elapsed\",'yyyy-MM-dd HH:mm:ss.SSSSSS').alias(\"time_elapsed\"),\n",
    "                                    \"event_date_time\",\"event_type\",\"session_id\")"
   ]
  },
  {
   "cell_type": "code",
   "execution_count": 11,
   "id": "c04aaa4c",
   "metadata": {},
   "outputs": [
    {
     "name": "stdout",
     "output_type": "stream",
     "text": [
      "+--------------------+--------------------+----------+\n",
      "|     login_date_time|          session_id|   user_id|\n",
      "+--------------------+--------------------+----------+\n",
      "|2022-08-08 06:15:...|tgUTPWVyxNLvAtQwW...|32000003E8|\n",
      "|2022-08-07 13:43:...|bxXEi5r6TUO5mqeyL...|       55B|\n",
      "|2022-08-01 12:06:...|0uP51gKf3HO99MbeV...|2400001CD0|\n",
      "|2022-08-05 07:37:...|J9AjSB2fAbjsZU2wL...|2C00000508|\n",
      "|2022-08-03 04:08:...|n1AAr54bkvS8sHN8w...|1400001B2D|\n",
      "|2022-08-07 15:56:...|Wov1oYcoOJ8ftDxyR...| E00000D43|\n",
      "|2022-08-03 03:34:...|47gJpjnYE3L7zUAz0...| 400000439|\n",
      "|2022-08-03 08:29:...|c3bMejhZfyWwNEun2...|2000000515|\n",
      "|2022-08-03 09:15:...|y7GE4B1F6z0zFlePJ...|2200000522|\n",
      "|2022-08-04 11:45:...|NOJvuWTBuOViOI4yH...|18000017CE|\n",
      "+--------------------+--------------------+----------+\n",
      "only showing top 10 rows\n",
      "\n"
     ]
    }
   ],
   "source": [
    "#reading login data\n",
    "from pyspark.sql.types import *\n",
    "schema2=StructType([StructField(\"login_date_time\",StringType(),True),StructField(\"session_id\",StringType(),True),StructField(\"user_id\",StringType(),True)])\n",
    "login_df=spark.read.csv(\"user_login.csv\",header=True,schema=schema2)\n",
    "login_df.show(10)"
   ]
  },
  {
   "cell_type": "code",
   "execution_count": 7,
   "id": "4b79de36",
   "metadata": {},
   "outputs": [
    {
     "name": "stdout",
     "output_type": "stream",
     "text": [
      "root\n",
      " |-- login_date_time: string (nullable = true)\n",
      " |-- session_id: string (nullable = true)\n",
      " |-- user_id: string (nullable = true)\n",
      "\n"
     ]
    }
   ],
   "source": [
    "login_df.printSchema()"
   ]
  },
  {
   "cell_type": "code",
   "execution_count": 17,
   "id": "1ed23dfd",
   "metadata": {},
   "outputs": [],
   "source": [
    "#joining clicksteam and login data using session id\n",
    "df1=clickstream_df.join(login_df,\"session_id\",\"left\").select(clickstream_df[\"*\"],\"login_date_time\",\"user_id\")\n",
    "\n",
    "\n",
    "# Derive click_flag, pageload_flag to calcualate click and pageload events, convert event_Date_time to date\n",
    "df2=df1.select(\"*\",when(col(\"event_type\")=='click',lit(1)).otherwise(lit(0)).alias(\"click_flag\"),\n",
    "              when(col(\"event_type\")=='pageload',lit(1)).otherwise(lit(0)).alias(\"pageload_flag\"),\n",
    "              col(\"event_date_time\").cast(\"date\").alias(\"date_of_click\"))\n",
    "\n",
    "\n",
    "#using window function to calculate first_url, number_of_clicks and number_of_pageloads\n",
    "from pyspark.sql.window import Window\n",
    "windowspec=Window.partitionBy(\"user_id\",\"date_of_click\",\"browser_id\").orderBy(\"event_date_time\")\n",
    "windowspec2=Window.partitionBy(\"user_id\",\"date_of_click\",\"browser_id\")\n",
    "\n",
    "\n",
    "df3=df2.select(row_number().over(windowspec).alias(\"rnum\"),\n",
    "              sum(\"click_flag\").over(windowspec2).alias(\"number_of_clicks\"),\n",
    "               sum(\"pageload_flag\").over(windowspec2).alias(\"number_of_pageloads\"),\"*\",\n",
    "               when(col(\"user_id\").isNotNull(),lit(1)).otherwise(lit(0)).alias(\"logged_in\"),\"date_of_click\")\n",
    "\n",
    "\n",
    "#renaming the columns\n",
    "final_df=df3.where(col(\"rnum\")==1).selectExpr(\"date_of_click as current_date\",\"browser_id\",\n",
    "                                                                       \"user_id\",\"logged_in\",\"current_page_url as first_url\",\n",
    "                                                                       \"number_of_clicks\",\"number_of_pageloads\")"
   ]
  },
  {
   "cell_type": "code",
   "execution_count": 19,
   "id": "5ddb7845",
   "metadata": {},
   "outputs": [
    {
     "name": "stdout",
     "output_type": "stream",
     "text": [
      "+------------+--------------------+-------+---------+--------------------+----------------+-------------------+\n",
      "|current_date|          browser_id|user_id|logged_in|           first_url|number_of_clicks|number_of_pageloads|\n",
      "+------------+--------------------+-------+---------+--------------------+----------------+-------------------+\n",
      "|  2022-07-31|1M94SXg2O0y3UGezj...|   null|        0|https://www.gosho...|               0|                  1|\n",
      "|  2022-07-31|1QV3KizAo7lmgStLZ...|   null|        0|https://www.gosho...|              15|                  0|\n",
      "|  2022-07-31|1anUiBdg7X8GgTAkb...|   null|        0|https://www.gosho...|               0|                  1|\n",
      "|  2022-07-31|28OulKrS1uXWi2Opg...|   null|        0|https://www.gosho...|               1|                  0|\n",
      "|  2022-07-31|2b5MTJKLywDvVsB7H...|   null|        0|https://www.gosho...|               0|                  1|\n",
      "|  2022-07-31|39bI6swZJjy8x9VyX...|   null|        0|https://www.gosho...|               1|                  0|\n",
      "|  2022-07-31|8izK2EzkHImEudOPB...|   null|        0|https://www.gosho...|               0|                  1|\n",
      "|  2022-07-31|902mvBcl1V2syykYh...|   null|        0|https://www.gosho...|               2|                  0|\n",
      "|  2022-07-31|9DFbFXqw8MWAYoYJb...|   null|        0|https://www.gosho...|               0|                  2|\n",
      "|  2022-07-31|9O1pO4kaYfpFOXRZA...|   null|        0|https://www.gosho...|               0|                  1|\n",
      "|  2022-07-31|9mTeZT7fbt0dGn0jK...|   null|        0|https://www.gosho...|               4|                  1|\n",
      "|  2022-07-31|ACUHZZKOzht1DdUAs...|   null|        0|https://www.gosho...|               1|                  0|\n",
      "|  2022-07-31|AP2jvXZuk4JQHXRQq...|   null|        0|https://www.gosho...|               0|                  1|\n",
      "|  2022-07-31|CR5nGPcekJHG7cIVL...|   null|        0|https://www.gosho...|               0|                  1|\n",
      "|  2022-07-31|CwUW47O26coJnaLOS...|   null|        0|https://www.gosho...|               0|                  1|\n",
      "|  2022-07-31|FholIjqigYAsaNoKU...|   null|        0|https://www.gosho...|               0|                  2|\n",
      "|  2022-07-31|FuCscAI6PugyL4pb3...|   null|        0|https://www.gosho...|               0|                  1|\n",
      "|  2022-07-31|GpHAES0vvhkwcyDLM...|   null|        0|https://www.gosho...|               5|                  0|\n",
      "|  2022-07-31|HRgI2ttnNfzCkPIXX...|   null|        0|https://www.gosho...|               0|                  1|\n",
      "|  2022-07-31|I3GnnhIp7x9YsYWjP...|   null|        0|https://www.gosho...|               0|                  1|\n",
      "+------------+--------------------+-------+---------+--------------------+----------------+-------------------+\n",
      "only showing top 20 rows\n",
      "\n"
     ]
    }
   ],
   "source": [
    "final_df.show(20)"
   ]
  },
  {
   "cell_type": "code",
   "execution_count": 21,
   "id": "f6772a8f",
   "metadata": {},
   "outputs": [
    {
     "data": {
      "text/plain": [
       "305456"
      ]
     },
     "execution_count": 21,
     "metadata": {},
     "output_type": "execute_result"
    }
   ],
   "source": [
    "final_df.count()"
   ]
  },
  {
   "cell_type": "code",
   "execution_count": null,
   "id": "da395874",
   "metadata": {},
   "outputs": [],
   "source": []
  }
 ],
 "metadata": {
  "kernelspec": {
   "display_name": "Python 3",
   "language": "python",
   "name": "python3"
  },
  "language_info": {
   "codemirror_mode": {
    "name": "ipython",
    "version": 3
   },
   "file_extension": ".py",
   "mimetype": "text/x-python",
   "name": "python",
   "nbconvert_exporter": "python",
   "pygments_lexer": "ipython3",
   "version": "3.8.8"
  }
 },
 "nbformat": 4,
 "nbformat_minor": 5
}
